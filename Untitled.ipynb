{
 "cells": [
  {
   "cell_type": "code",
   "execution_count": 10,
   "id": "b44adb5a",
   "metadata": {},
   "outputs": [
    {
     "name": "stdout",
     "output_type": "stream",
     "text": [
      "distancia: 3.1622776601683795\n",
      "Ruta óptima: [(0, 0), (1, 3), (3, 5), (5, 2)]\n",
      "Distancia total de la ruta óptima: 9.59625606037856\n"
     ]
    }
   ],
   "source": [
    "import math\n",
    "\n",
    "def calcular_distancia(punto1, punto2):\n",
    "    # Calcula la distancia Euclidiana entre dos puntos\n",
    "    x1, y1 = punto1\n",
    "    x2, y2 = punto2\n",
    "    distancia = math.sqrt((x2 - x1)**2 + (y2 - y1)**2)\n",
    "    return distancia\n",
    "\n",
    "def calcular_distancia_total(ruta):\n",
    "    # Calcula la distancia total recorrida en una ruta\n",
    "    distancia_total = 0\n",
    "    for i in range(len(ruta) - 1):\n",
    "        distancia_total += calcular_distancia(ruta[i], ruta[i + 1])\n",
    "    return distancia_total\n",
    "\n",
    "def optimizacion_ruta(rutas):\n",
    "    # Encuentra la ruta optimizada con la distancia mínima\n",
    "    distancia_minima = float('inf')\n",
    "    ruta_optimizada = None\n",
    "    for ruta in rutas:\n",
    "        distancia = calcular_distancia_total(ruta)\n",
    "        if distancia < distancia_minima:\n",
    "            distancia_minima = distancia\n",
    "            ruta_optimizada = ruta\n",
    "    return ruta_optimizada\n",
    "\n",
    "punto1 = (0,0)\n",
    "punto2 = (1,3)\n",
    "d = calcular_distancia(punto1,punto2)\n",
    "\n",
    "ruta1 = [(0,0),(1, 3), (3, 5), (5, 2)]\n",
    "ruta2 = [(0,0),(3, 5), (1, 3), (5, 2)]\n",
    "ruta3 = [(0,0),(3, 5), (5, 2), (1, 3)]\n",
    "\n",
    "\n",
    "rutas = [ruta1, ruta2, ruta3]\n",
    "ruta_optimizada = optimizacion_ruta(rutas)\n",
    "\n",
    "print(\"distancia:\",d)\n",
    "print(\"Ruta óptima:\", ruta_optimizada)\n",
    "print(\"Distancia total de la ruta óptima:\", calcular_distancia_total(ruta_optimizada))\n"
   ]
  },
  {
   "cell_type": "code",
   "execution_count": 11,
   "id": "d6897e02",
   "metadata": {},
   "outputs": [
    {
     "name": "stdout",
     "output_type": "stream",
     "text": [
      "Título: Cien años de soledad\n",
      "Autor: Gabriel García Márquez\n",
      "Disponibilidad: Si\n",
      "El libro 'Cien años de soledad' ha sido prestado.\n",
      "Disponibilidad: No\n",
      "El libro 'Cien años de soledad' ha sido devuelto.\n",
      "Disponibilidad: Si\n"
     ]
    }
   ],
   "source": [
    "class Libro:\n",
    "    def __init__(self, titulo, autor):\n",
    "        self.titulo = titulo\n",
    "        self.autor = autor\n",
    "        self.disponibilidad = \"Si\"\n",
    "    \n",
    "    def obtener_titulo(self):\n",
    "        return self.titulo\n",
    "    \n",
    "    def obtener_autor(self):\n",
    "        return self.autor\n",
    "    \n",
    "    def esta_disponible(self):\n",
    "        return self.disponibilidad\n",
    "    \n",
    "    def libro_prestado(self):\n",
    "        if self.disponibilidad == \"Si\":\n",
    "            self.disponibilidad = \"No\"\n",
    "            print(\"El libro '{}' ha sido prestado.\".format(self.titulo))\n",
    "        else:\n",
    "            print(\"El libro '{}' no está disponible.\".format(self.titulo))\n",
    "    \n",
    "    def devolver_libro(self):\n",
    "        if self.disponibilidad == \"No\":\n",
    "            self.disponibilidad = \"Si\"\n",
    "            print(\"El libro '{}' ha sido devuelto.\".format(self.titulo))\n",
    "        else:\n",
    "            print(\"El libro '{}' no ha sido prestado.\".format(self.titulo))\n",
    "\n",
    "\n",
    "# Prueba del código\n",
    "libro1 = Libro(\"Cien años de soledad\", \"Gabriel García Márquez\")\n",
    "print(\"Título:\", libro1.obtener_titulo())\n",
    "print(\"Autor:\", libro1.obtener_autor())\n",
    "print(\"Disponibilidad:\", libro1.esta_disponible())\n",
    "\n",
    "libro1.libro_prestado()\n",
    "print(\"Disponibilidad:\", libro1.esta_disponible())\n",
    "\n",
    "libro1.devolver_libro()\n",
    "print(\"Disponibilidad:\", libro1.esta_disponible())\n"
   ]
  },
  {
   "cell_type": "code",
   "execution_count": null,
   "id": "f5e7841a",
   "metadata": {},
   "outputs": [],
   "source": []
  }
 ],
 "metadata": {
  "kernelspec": {
   "display_name": "Python 3 (ipykernel)",
   "language": "python",
   "name": "python3"
  },
  "language_info": {
   "codemirror_mode": {
    "name": "ipython",
    "version": 3
   },
   "file_extension": ".py",
   "mimetype": "text/x-python",
   "name": "python",
   "nbconvert_exporter": "python",
   "pygments_lexer": "ipython3",
   "version": "3.10.9"
  }
 },
 "nbformat": 4,
 "nbformat_minor": 5
}
